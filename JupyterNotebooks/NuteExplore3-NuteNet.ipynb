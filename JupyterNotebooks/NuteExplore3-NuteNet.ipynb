{
 "cells": [
  {
   "cell_type": "code",
   "execution_count": 2,
   "metadata": {},
   "outputs": [
    {
     "name": "stderr",
     "output_type": "stream",
     "text": [
      "c:\\Users\\bdub\\AppData\\Local\\Programs\\Python\\Python310\\lib\\site-packages\\tqdm\\auto.py:22: TqdmWarning: IProgress not found. Please update jupyter and ipywidgets. See https://ipywidgets.readthedocs.io/en/stable/user_install.html\n",
      "  from .autonotebook import tqdm as notebook_tqdm\n"
     ]
    }
   ],
   "source": [
    "import torch\n",
    "# Pytorch utils for neural net\n",
    "import torch\n",
    "import torch.nn as nn\n",
    "from torch.utils.data import Dataset\n",
    "from torch.utils.data import DataLoader\n",
    "\n",
    "import torch.nn.functional as F\n",
    "\n",
    "import numpy as np\n",
    "import os \n",
    "import matplotlib.pyplot as plt"
   ]
  },
  {
   "cell_type": "code",
   "execution_count": 6,
   "metadata": {},
   "outputs": [],
   "source": [
    "class HSI_Datset(Dataset):\n",
    "    #init func tells us to supply x and y with invokation\n",
    "    def __init__(self, set, target):\n",
    "        self.dir_str = r'C:\\Users\\bdub\\OneDrive - Michigan State University\\Nutrient Scans\\Data\\DataTensors'\n",
    "        # Set == Train or Test, should have those folders in DataTensors\n",
    "        self.set = set\n",
    "        # Target is N in this case\n",
    "        self.target = target\n",
    "        # scans is object pointing to input CorNDVI images in set\n",
    "        self.scans = os.listdir(self.dir_str + r'\\\\' + self.set + r'\\\\Scans')\n",
    "        # nutes object pointing to corresponding target to predict with scans\n",
    "        self.nutes = os.listdir(self.dir_str + r'\\\\' + self.set + r'\\\\' + self.target)\n",
    "\n",
    "\n",
    "    # __getitem__: Loop through self.scans and return one scan and corresponding target\n",
    "    def __getitem__(self, index):\n",
    "        scan = self.scans[index]\n",
    "        fname = scan.split('-')\n",
    "        uid = fname[1]\n",
    "        # concat uid and unique integer.pt id\n",
    "        trunk = fname[1] + '-' + fname[2]\n",
    "        # need to unsqueeze becuase of dimensions in saved tensor, could make it better\n",
    "        x = torch.load(self.dir_str + r'\\\\' + self.set + r'\\\\Scans\\\\' + scan).unsqueeze(0)\n",
    "        # should also do this step in tensor creation\n",
    "        x = torch.nan_to_num(x)\n",
    "        # string manipulation to load cognate target tanesor based on uid + integert id\n",
    "        ypath = self.dir_str + r'\\\\' + self.set + r'\\\\' + self.target\n",
    "        y = torch.load(ypath +r'\\\\' + self.target + '-' + trunk)\n",
    "        return x, y\n",
    "    \n",
    "    def __len__(self):\n",
    "        return len(self.scans)"
   ]
  },
  {
   "cell_type": "code",
   "execution_count": 7,
   "metadata": {},
   "outputs": [],
   "source": [
    "train = HSI_Datset(set = 'Train', target = 'N')\n",
    "# shuffle the training set\n",
    "train_loader = DataLoader(train, batch_size=164, shuffle=True)\n",
    "test = HSI_Datset(set = 'Test', target = 'N')\n",
    "# batch size 166 includes all test objects\n",
    "test_loader = DataLoader(test, batch_size=151, shuffle=False)"
   ]
  },
  {
   "cell_type": "markdown",
   "metadata": {},
   "source": [
    "# Note on architecture and other parameters:\n",
    "- very little tuning was done on the number or type of layers, optimizer type and learning rate."
   ]
  },
  {
   "cell_type": "code",
   "execution_count": 9,
   "metadata": {},
   "outputs": [],
   "source": [
    "class HSI_CNN(nn.Module):\n",
    "    def __init__(self):\n",
    "        super(HSI_CNN, self).__init__()\n",
    "        self.cnn1 = nn.Conv2d(in_channels=1, out_channels = 1, kernel_size=4).double()\n",
    "        self.maxpool = nn.MaxPool2d(kernel_size=4)\n",
    "        # need to do math to calculate final input size for linear\n",
    "        self.linear = torch.nn.Linear(3249,10).double()\n",
    "        self.predict = torch.nn.Linear(10, 1).double()\n",
    "\n",
    "    # forward defines layer architecture of cnn in sequential order\n",
    "    def forward(self, x):\n",
    "        x = self.cnn1(x)\n",
    "        x = F.relu(x)\n",
    "        x = self.maxpool(x)\n",
    "        x = x.view(x.size(0), -1)\n",
    "        x = self.linear(x)\n",
    "        x = F.relu(x)\n",
    "        x = self.predict(x).squeeze(0)\n",
    "        return x"
   ]
  },
  {
   "cell_type": "code",
   "execution_count": 10,
   "metadata": {},
   "outputs": [],
   "source": [
    "nute_net = HSI_CNN()\n",
    "criterion = torch.nn.MSELoss()\n",
    "optimizer = torch.optim.SGD(nute_net.parameters(), lr = 0.001)"
   ]
  },
  {
   "cell_type": "code",
   "execution_count": 13,
   "metadata": {},
   "outputs": [
    {
     "name": "stdout",
     "output_type": "stream",
     "text": [
      "0\n",
      "Val R2: tensor(-0.3375)\n",
      "1\n",
      "Val R2: tensor(-0.4612)\n",
      "2\n",
      "Val R2: tensor(-0.3667)\n",
      "3\n",
      "Val R2: tensor(-0.3404)\n",
      "4\n",
      "Val R2: tensor(-0.4485)\n",
      "5\n",
      "Val R2: tensor(-0.4312)\n",
      "6\n",
      "Val R2: tensor(-0.4354)\n",
      "7\n",
      "Val R2: tensor(-0.4898)\n",
      "8\n",
      "Val R2: tensor(-0.4195)\n",
      "9\n",
      "Val R2: tensor(-0.3691)\n"
     ]
    }
   ],
   "source": [
    "from torchmetrics import R2Score\n",
    "\n",
    "\n",
    "e = 10\n",
    "r2score = R2Score()\n",
    "train_mse = []\n",
    "train_r2 = []\n",
    "test_mse = []\n",
    "test_r2 = []\n",
    "\n",
    "for epoch in range(e):\n",
    "    for data in train_loader:\n",
    "        train_mse_batch = []\n",
    "        y = data[1].unsqueeze(1)\n",
    "        x = data[0]\n",
    "        outputs = nute_net(x)\n",
    "        loss = criterion(y, outputs)\n",
    "        optimizer.zero_grad()\n",
    "        loss.backward()\n",
    "        optimizer.step()\n",
    "        train_mse_batch.append(loss.item())\n",
    "        #print('MSE', loss.item())\n",
    "        train_mse.append(loss.item())\n",
    "        train_r2.append(r2score(outputs, y).item())\n",
    "    #print('train R2:', r2score(outputs, y))\n",
    "    for data in test_loader:  \n",
    "        with torch.no_grad():\n",
    "            y = data[1].unsqueeze(1)\n",
    "            x = data[0]\n",
    "            predictions = nute_net(x)\n",
    "            test_loss = criterion(y, predictions)\n",
    "            test_r2.append(r2score(predictions, y).item())\n",
    "            test_mse.append(test_loss.item())\n",
    "            #print('Val R2:', r2score(predictions, y))\n",
    "    print(epoch)\n",
    "    print('Val R2:', r2score(predictions, y))"
   ]
  },
  {
   "cell_type": "code",
   "execution_count": 16,
   "metadata": {},
   "outputs": [],
   "source": [
    "# Look at distribution of Nutes in test and target\n",
    "test_n = []\n",
    "for data in test_loader:\n",
    "    for y in data[1].unsqueeze(1):\n",
    "        test_n.append(y.item())\n",
    "    \n",
    "# Look at distribution of Nutes in test and target\n",
    "train_n = []\n",
    "for data in train_loader:\n",
    "    for y in data[1].unsqueeze(1):\n",
    "        train_n.append(y.item())\n",
    "    "
   ]
  },
  {
   "cell_type": "markdown",
   "metadata": {},
   "source": [
    "# Note on train/test split:\n",
    "- The split was designed to be difficult on the net but the distributions are also different. After processing the third set of scans it might be easier to create a split that has similar distributions of N targets while still; containing a new environment, and hybrid set. "
   ]
  },
  {
   "cell_type": "code",
   "execution_count": 21,
   "metadata": {},
   "outputs": [
    {
     "data": {
      "text/plain": [
       "<matplotlib.legend.Legend at 0x1a7733d7430>"
      ]
     },
     "execution_count": 21,
     "metadata": {},
     "output_type": "execute_result"
    },
    {
     "data": {
      "image/png": "[encoded data removed]",
      "text/plain": [
       "<Figure size 432x288 with 1 Axes>"
      ]
     },
     "metadata": {
      "needs_background": "light"
     },
     "output_type": "display_data"
    }
   ],
   "source": [
    "plt.hist(train_n, label = 'Train N% Dist')\n",
    "plt.hist(test_n, label='Test N% Dist')\n",
    "plt.legend()"
   ]
  },
  {
   "cell_type": "code",
   "execution_count": 41,
   "metadata": {},
   "outputs": [
    {
     "name": "stdout",
     "output_type": "stream",
     "text": [
      "0.48647838830947876\n",
      "0.13502320300240078\n"
     ]
    }
   ],
   "source": [
    "# access r2 and mse scores from validation\n",
    "print(test_r2)\n",
    "print(test_mse)"
   ]
  }
 ],
 "metadata": {
  "kernelspec": {
   "display_name": "Python 3.10.6 64-bit",
   "language": "python",
   "name": "python3"
  },
  "language_info": {
   "codemirror_mode": {
    "name": "ipython",
    "version": 3
   },
   "file_extension": ".py",
   "mimetype": "text/x-python",
   "name": "python",
   "nbconvert_exporter": "python",
   "pygments_lexer": "ipython3",
   "version": "3.10.6"
  },
  "orig_nbformat": 4,
  "vscode": {
   "interpreter": {
    "hash": "7238923d0de821c1df147eaea4d71d5a37a2a25d0a9b96eb25490c649fd21c1c"
   }
  }
 },
 "nbformat": 4,
 "nbformat_minor": 2
}
